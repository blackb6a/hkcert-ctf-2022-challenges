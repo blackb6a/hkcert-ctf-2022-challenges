{
 "cells": [
  {
   "cell_type": "code",
   "execution_count": 1,
   "id": "130b4e0e",
   "metadata": {},
   "outputs": [],
   "source": [
    "from GPSPhoto import gpsphoto\n",
    "import pandas as pd\n",
    "import geopandas"
   ]
  },
  {
   "cell_type": "code",
   "execution_count": 2,
   "id": "98fa79cf",
   "metadata": {},
   "outputs": [],
   "source": [
    "lat = []\n",
    "long = []"
   ]
  },
  {
   "cell_type": "code",
   "execution_count": 3,
   "id": "10fae43c",
   "metadata": {},
   "outputs": [
    {
     "data": {
      "text/plain": [
       "{'Latitude': 22.336601888888886,\n",
       " 'Longitude': 114.17250880555557,\n",
       " 'Altitude': 0,\n",
       " 'UTC-Time': '18:0:0',\n",
       " 'Date': '11/11/2022'}"
      ]
     },
     "execution_count": 3,
     "metadata": {},
     "output_type": "execute_result"
    }
   ],
   "source": [
    "gpsphoto.getGPSData(\"pic/1.jpg\")"
   ]
  },
  {
   "cell_type": "code",
   "execution_count": 4,
   "id": "202f314d",
   "metadata": {},
   "outputs": [],
   "source": [
    "for i in range(297):\n",
    "    lat.append(gpsphoto.getGPSData(\"pic/\"+str(i+1)+\".jpg\")['Latitude'])\n",
    "    long.append(gpsphoto.getGPSData(\"pic/\"+str(i+1)+\".jpg\")['Longitude'])"
   ]
  },
  {
   "cell_type": "code",
   "execution_count": 5,
   "id": "0fad941f",
   "metadata": {},
   "outputs": [],
   "source": [
    "df = pd.DataFrame(\n",
    "    {'Longitude': long,\n",
    "    'Latitude': lat,\n",
    "    })"
   ]
  },
  {
   "cell_type": "code",
   "execution_count": 6,
   "id": "59ccead9",
   "metadata": {},
   "outputs": [],
   "source": [
    "gdf = geopandas.GeoDataFrame(\n",
    "    df, geometry=geopandas.points_from_xy(df.Longitude, df.Latitude))"
   ]
  },
  {
   "cell_type": "code",
   "execution_count": 7,
   "id": "803cca5e",
   "metadata": {},
   "outputs": [
    {
     "data": {
      "image/png": "[encoded data removed]",
      "text/plain": [
       "<Figure size 640x480 with 1 Axes>"
      ]
     },
     "metadata": {},
     "output_type": "display_data"
    }
   ],
   "source": [
    "gdf.plot(color='red', markersize=7).get_figure().savefig('flag.png')"
   ]
  }
 ],
 "metadata": {
  "kernelspec": {
   "display_name": "Python 3 (ipykernel)",
   "language": "python",
   "name": "python3"
  },
  "language_info": {
   "codemirror_mode": {
    "name": "ipython",
    "version": 3
   },
   "file_extension": ".py",
   "mimetype": "text/x-python",
   "name": "python",
   "nbconvert_exporter": "python",
   "pygments_lexer": "ipython3",
   "version": "3.10.6"
  }
 },
 "nbformat": 4,
 "nbformat_minor": 5
}
